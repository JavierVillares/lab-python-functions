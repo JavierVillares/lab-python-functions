{
 "cells": [
  {
   "cell_type": "markdown",
   "id": "25d7736c-ba17-4aff-b6bb-66eba20fbf4e",
   "metadata": {},
   "source": [
    "# Lab | Functions"
   ]
  },
  {
   "cell_type": "markdown",
   "id": "0c581062-8967-4d93-b06e-62833222f930",
   "metadata": {
    "tags": []
   },
   "source": [
    "## Exercise: Managing Customer Orders with Functions\n",
    "\n",
    "In the previous exercise, you improved the code for managing customer orders by using loops and flow control. Now, let's take it a step further and refactor the code by introducing functions.\n",
    "\n",
    "Follow the steps below to complete the exercise:\n",
    "\n",
    "1. Define a function named `initialize_inventory` that takes `products` as a parameter. Inside the function, implement the code for initializing the inventory dictionary using a loop and user input.\n",
    "\n",
    "2. Define a function named `get_customer_orders` that takes no parameters. Inside the function, implement the code for prompting the user to enter the product names using a loop. The function should return the `customer_orders` set.\n",
    "\n",
    "3. Define a function named `update_inventory` that takes `customer_orders` and `inventory` as parameters. Inside the function, implement the code for updating the inventory dictionary based on the customer orders.\n",
    "\n",
    "4. Define a function named `calculate_order_statistics` that takes `customer_orders` and `products` as parameters. Inside the function, implement the code for calculating the order statistics (total products ordered, and percentage of unique products ordered). The function should return these values.\n",
    "\n",
    "5. Define a function named `print_order_statistics` that takes `order_statistics` as a parameter. Inside the function, implement the code for printing the order statistics.\n",
    "\n",
    "6. Define a function named `print_updated_inventory` that takes `inventory` as a parameter. Inside the function, implement the code for printing the updated inventory.\n",
    "\n",
    "7. Call the functions in the appropriate sequence to execute the program and manage customer orders.\n",
    "\n",
    "Hints for functions:\n",
    "\n",
    "- Consider the input parameters required for each function and their return values.\n",
    "- Utilize function parameters and return values to transfer data between functions.\n",
    "- Test your functions individually to ensure they work correctly.\n",
    "\n",
    "\n"
   ]
  },
  {
   "cell_type": "code",
   "execution_count": null,
   "id": "db1a430d",
   "metadata": {},
   "outputs": [],
   "source": [
    "products = [\"t-shirt\", \"mug\", \"hat\", \"book\", \"keychain\"]  #Creation of the list of products"
   ]
  },
  {
   "cell_type": "code",
   "execution_count": null,
   "id": "9ceb0135",
   "metadata": {},
   "outputs": [],
   "source": [
    "inventory = {} #Creation of a dictionary to store the inventory of the quantity of each product"
   ]
  },
  {
   "cell_type": "code",
   "execution_count": null,
   "id": "974504ec",
   "metadata": {},
   "outputs": [],
   "source": [
    "for x in products:\n",
    "    inventory[x] = int(input(\"How many \" + x + \" are there: \" )) #inputting the value of each key [x] in the dictionary for each product\n"
   ]
  },
  {
   "cell_type": "code",
   "execution_count": null,
   "id": "29355c19",
   "metadata": {},
   "outputs": [],
   "source": [
    "customer_orders = set() #creating an empty set for the customer order since the customer can only choose one of each product (even if he inputs the same product 3 times it will be considered still as one)"
   ]
  },
  {
   "cell_type": "code",
   "execution_count": null,
   "id": "a58d8f80",
   "metadata": {},
   "outputs": [],
   "source": [
    "#here we are creating a loop so the customer can choose several products but we can´t choose multiple products since the customer_orders list is a set so for now we just create a simple loop and we update the list of the set\n",
    "seguir = \"y\" #start of loop \"condition first\"\n",
    "while seguir == \"y\": #checking what the condition of the loop is\n",
    "    print(products) #we need the list of the available products from which the customer can choose from\n",
    "    order = input(\"Choose one of these following items: \") #we ask the customer to choose one of the items \n",
    "    print(\"You choose:\", order) #we confirm what he chose\n",
    "    customer_orders.add(order) #we add said order to the customer_orders set\n",
    "    seguir = input(\"Do you want to keep on buying?  y/n \", ) #we ask the customer if he wants to continue choosing y = loop starts again n = we continue with the next line of code\n",
    "else: \n",
    "    print(\"Thank you for purchasing:\", customer_orders) #we display the customer_orders list with a thank you message\n",
    "print(customer_orders) #this is just to check that the customer_oders list works correctly\n"
   ]
  },
  {
   "cell_type": "code",
   "execution_count": null,
   "id": "6eb15860",
   "metadata": {},
   "outputs": [],
   "source": [
    "#Since there are only 5 products and the customer can choose 3 different we can see what the percentage is of what he chose, considering that the list of the customer is a \"set\"\n",
    "percentage_of_customer_orders = len(customer_orders)/len(products)*100\n",
    "print(\"Percentage of customer order\", percentage_of_customer_orders,\"%\")"
   ]
  },
  {
   "cell_type": "code",
   "execution_count": null,
   "id": "b7c59262",
   "metadata": {},
   "outputs": [],
   "source": []
  },
  {
   "cell_type": "code",
   "execution_count": null,
   "id": "9bb6644f",
   "metadata": {},
   "outputs": [],
   "source": []
  }
 ],
 "metadata": {
  "kernelspec": {
   "display_name": "Python 3 (ipykernel)",
   "language": "python",
   "name": "python3"
  },
  "language_info": {
   "codemirror_mode": {
    "name": "ipython",
    "version": 3
   },
   "file_extension": ".py",
   "mimetype": "text/x-python",
   "name": "python",
   "nbconvert_exporter": "python",
   "pygments_lexer": "ipython3",
   "version": "3.11.5"
  }
 },
 "nbformat": 4,
 "nbformat_minor": 5
}
