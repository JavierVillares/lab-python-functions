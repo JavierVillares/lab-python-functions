{
 "cells": [
  {
   "cell_type": "markdown",
   "id": "25d7736c-ba17-4aff-b6bb-66eba20fbf4e",
   "metadata": {},
   "source": [
    "# Lab | Functions"
   ]
  },
  {
   "cell_type": "markdown",
   "id": "0c581062-8967-4d93-b06e-62833222f930",
   "metadata": {
    "tags": []
   },
   "source": [
    "## Exercise: Managing Customer Orders with Functions\n",
    "\n",
    "In the previous exercise, you improved the code for managing customer orders by using loops and flow control. Now, let's take it a step further and refactor the code by introducing functions.\n",
    "\n",
    "Follow the steps below to complete the exercise:\n",
    "\n",
    "1. Define a function named `initialize_inventory` that takes `products` as a parameter. Inside the function, implement the code for initializing the inventory dictionary using a loop and user input.\n",
    "\n",
    "2. Define a function named `get_customer_orders` that takes no parameters. Inside the function, implement the code for prompting the user to enter the product names using a loop. The function should return the `customer_orders` set.\n",
    "\n",
    "3. Define a function named `update_inventory` that takes `customer_orders` and `inventory` as parameters. Inside the function, implement the code for updating the inventory dictionary based on the customer orders.\n",
    "\n",
    "4. Define a function named `calculate_order_statistics` that takes `customer_orders` and `products` as parameters. Inside the function, implement the code for calculating the order statistics (total products ordered, and percentage of unique products ordered). The function should return these values.\n",
    "\n",
    "5. Define a function named `print_order_statistics` that takes `order_statistics` as a parameter. Inside the function, implement the code for printing the order statistics.\n",
    "\n",
    "6. Define a function named `print_updated_inventory` that takes `inventory` as a parameter. Inside the function, implement the code for printing the updated inventory.\n",
    "\n",
    "7. Call the functions in the appropriate sequence to execute the program and manage customer orders.\n",
    "\n",
    "Hints for functions:\n",
    "\n",
    "- Consider the input parameters required for each function and their return values.\n",
    "- Utilize function parameters and return values to transfer data between functions.\n",
    "- Test your functions individually to ensure they work correctly.\n",
    "\n",
    "\n"
   ]
  },
  {
   "cell_type": "code",
   "execution_count": null,
   "id": "7bf04af7",
   "metadata": {},
   "outputs": [],
   "source": [
    "def initialize_inventory(products):\n",
    "    inventory = {}\n",
    "    more_products = \"yes\"\n",
    "    while more_products == \"yes\":\n",
    "        products_orders = input(\"What product do you want to add to the list:\"  )\n",
    "        more_products = input(\"Do you want to add more products to the list? yes/no \")\n",
    "        products.append(products_orders)\n",
    "    else: inventory = {}\n",
    "    \n",
    "    for x in products:\n",
    "        inventory[x] = int(input(\"How many \" + x + \" are there: \" ))\n",
    "    print(products)\n",
    "    return inventory\n",
    "products = [\"t-shirt\", \"mug\", \"hat\", \"book\", \"keychain\"] "
   ]
  },
  {
   "cell_type": "code",
   "execution_count": 13,
   "id": "c7145482",
   "metadata": {},
   "outputs": [],
   "source": []
  },
  {
   "cell_type": "code",
   "execution_count": 26,
   "id": "cc72d27b",
   "metadata": {},
   "outputs": [],
   "source": [
    "def get_customer_orders():\n",
    "    customer_orders = set()\n",
    "    seguir = \"y\" #start of loop \"condition first\"\n",
    "    customer_orders = set()\n",
    "    while seguir == \"y\": #checking what the condition of the loop is\n",
    "        print(products) #we need the list of the available products from which the customer can choose from\n",
    "        order = input(\"Choose one of these following items: \") #we ask the customer to choose one of the items \n",
    "        print(\"You choose:\", order) #we confirm what he chose\n",
    "        customer_orders.add(order) #we add said order to the customer_orders set\n",
    "        seguir = input(\"Do you want to keep on buying?  y/n \", ) #we ask the customer if he wants to continue choosing y = loop starts again n = we continue with the next line of cod\n",
    "    else: \n",
    "        print(\"Thank you for purchasing:\", customer_orders) #we display the customer_orders list with a thank you message\n",
    "    return customer_orders"
   ]
  },
  {
   "cell_type": "code",
   "execution_count": 27,
   "id": "d5e33502",
   "metadata": {},
   "outputs": [],
   "source": [
    "def update_inventory(customer_orders, inventory):\n",
    "    for product in customer_orders:\n",
    "        if product in inventory:\n",
    "            inventory[product] -= 1\n",
    "            if inventory[f] < 0:\n",
    "                inventory[order] = 0"
   ]
  },
  {
   "cell_type": "code",
   "execution_count": 28,
   "id": "655315db",
   "metadata": {},
   "outputs": [],
   "source": [
    "def calculate_order_statistics(customer_orders, products):\n",
    "    total_products_ordered = len(customer_orders)\n",
    "    unique_products_ordered = len(set(customer_orders))\n",
    "    return total_products_ordered, (unique_products_ordered / len(products)) * 100\n"
   ]
  },
  {
   "cell_type": "code",
   "execution_count": 29,
   "id": "f96a6cd2",
   "metadata": {},
   "outputs": [],
   "source": [
    "def print_order_statistics(order_statistics):\n",
    "    total_products_ordered, percentage_unique = order_statistics\n",
    "    print(f\"Total products ordered: {total_products_ordered}\")\n",
    "    print(f\"Percentage of unique products ordered: {percentage_unique}%\")\n"
   ]
  },
  {
   "cell_type": "code",
   "execution_count": 30,
   "id": "d8cf7394",
   "metadata": {},
   "outputs": [],
   "source": [
    "def print_updated_inventory(inventory):\n",
    "    print(\"Updated Inventory:\")\n",
    "    for product, quantity in inventory.items():\n",
    "        print(f\"{product}: {quantity}\")"
   ]
  },
  {
   "cell_type": "code",
   "execution_count": 1,
   "id": "6ca5f495",
   "metadata": {},
   "outputs": [
    {
     "ename": "NameError",
     "evalue": "name 'initialize_inventory' is not defined",
     "output_type": "error",
     "traceback": [
      "\u001b[0;31m---------------------------------------------------------------------------\u001b[0m",
      "\u001b[0;31mNameError\u001b[0m                                 Traceback (most recent call last)",
      "Cell \u001b[0;32mIn[1], line 1\u001b[0m\n\u001b[0;32m----> 1\u001b[0m inventory \u001b[38;5;241m=\u001b[39m initialize_inventory(products)\n\u001b[1;32m      2\u001b[0m customer_orders \u001b[38;5;241m=\u001b[39m get_customer_orders()\n\u001b[1;32m      3\u001b[0m update_inventory(customer_orders, inventory)\n",
      "\u001b[0;31mNameError\u001b[0m: name 'initialize_inventory' is not defined"
     ]
    }
   ],
   "source": [
    "<<inventory = initialize_inventory(products)\n",
    "customer_orders = get_customer_orders()\n",
    "update_inventory(customer_orders, inventory)\n",
    "order_statistics = calculate_order_statistics(customer_orders, products)\n",
    "print_order_statistics(order_statistics)\n",
    "print_updated_inventory(inventory)\n"
   ]
  },
  {
   "cell_type": "code",
   "execution_count": null,
   "id": "9f35e47c",
   "metadata": {},
   "outputs": [],
   "source": []
  },
  {
   "cell_type": "code",
   "execution_count": null,
   "id": "16ce1d9d",
   "metadata": {},
   "outputs": [],
   "source": []
  },
  {
   "cell_type": "code",
   "execution_count": null,
   "id": "bf0c5729",
   "metadata": {},
   "outputs": [],
   "source": [
    "products = [\"t-shirt\", \"mug\", \"hat\", \"book\", \"keychain\"]  #Creation of the list of products"
   ]
  },
  {
   "cell_type": "code",
   "execution_count": null,
   "id": "904a903b",
   "metadata": {},
   "outputs": [],
   "source": [
    "inventory = {} #Creation of a dictionary to store the inventory of the quantity of each product"
   ]
  },
  {
   "cell_type": "code",
   "execution_count": null,
   "id": "49b3e11f",
   "metadata": {},
   "outputs": [],
   "source": [
    "for x in products:\n",
    "    inventory[x] = int(input(\"How many \" + x + \" are there: \" )) #inputting the value of each key [x] in the dictionary for each product\n"
   ]
  },
  {
   "cell_type": "code",
   "execution_count": null,
   "id": "63fa20f0",
   "metadata": {},
   "outputs": [],
   "source": []
  },
  {
   "cell_type": "code",
   "execution_count": null,
   "id": "0ac03d54",
   "metadata": {},
   "outputs": [],
   "source": []
  },
  {
   "cell_type": "code",
   "execution_count": null,
   "id": "39cf0244",
   "metadata": {},
   "outputs": [],
   "source": [
    "#Since there are only 5 products and the customer can choose 3 different we can see what the percentage is of what he chose, considering that the list of the customer is a \"set\"\n",
    "percentage_of_customer_orders = len(customer_orders)/len(products)*100\n",
    "print(\"Percentage of customer order\", percentage_of_customer_orders,\"%\")"
   ]
  },
  {
   "cell_type": "code",
   "execution_count": null,
   "id": "8d5769dc",
   "metadata": {},
   "outputs": [],
   "source": [
    "#we need to substract one item from the inventory of what the customer has chosen\n",
    "for x in customer_orders:\n",
    "    inventory[x] -= 1\n",
    "    \n",
    "#how many products do you want? "
   ]
  },
  {
   "cell_type": "code",
   "execution_count": null,
   "id": "1e0e73ec",
   "metadata": {},
   "outputs": [],
   "source": [
    "for x,y in inventory.items(): #basic nice display of the total left inventory\n",
    "    print(\"Inventory of\", x , \"is: \", y )"
   ]
  },
  {
   "cell_type": "code",
   "execution_count": null,
   "id": "febb595a",
   "metadata": {},
   "outputs": [],
   "source": []
  },
  {
   "cell_type": "code",
   "execution_count": null,
   "id": "cd14e7e4",
   "metadata": {},
   "outputs": [],
   "source": []
  },
  {
   "cell_type": "code",
   "execution_count": 24,
   "id": "354ed65b",
   "metadata": {},
   "outputs": [
    {
     "name": "stdout",
     "output_type": "stream",
     "text": [
      "Enter the initial quantity of apple: 12\n",
      "Enter the initial quantity of banana: 12\n",
      "Enter the initial quantity of orange: 12\n",
      "Enter a product name (or type 'done' to finish): 12\n",
      "Enter a product name (or type 'done' to finish): 12\n",
      "Enter a product name (or type 'done' to finish): 12\n",
      "Enter a product name (or type 'done' to finish): banana\n",
      "Enter a product name (or type 'done' to finish): banana\n",
      "Enter a product name (or type 'done' to finish): banana\n",
      "Enter a product name (or type 'done' to finish): n\n",
      "Enter a product name (or type 'done' to finish): done\n",
      "Total products ordered: 3\n",
      "Percentage of unique products ordered: 100.0%\n",
      "Updated Inventory:\n",
      "apple: 12\n",
      "banana: 11\n",
      "orange: 12\n"
     ]
    }
   ],
   "source": [
    "def initialize_inventory(products):\n",
    "    inventory = {}\n",
    "    for product in products:\n",
    "        quantity = int(input(f\"Enter the initial quantity of {product}: \"))\n",
    "        inventory[product] = quantity\n",
    "    return inventory\n",
    "\n",
    "def get_customer_orders():\n",
    "    customer_orders = set()\n",
    "    while True:\n",
    "        order = input(\"Enter a product name (or type 'done' to finish): \")\n",
    "        if order.lower() == 'done':\n",
    "            break\n",
    "        customer_orders.add(order)\n",
    "    return customer_orders\n",
    "\n",
    "def update_inventory(customer_orders, inventory):\n",
    "    for order in customer_orders:\n",
    "        if order in inventory:\n",
    "            inventory[order] -= 1\n",
    "            if inventory[order] < 0:\n",
    "                inventory[order] = 0\n",
    "\n",
    "def calculate_order_statistics(customer_orders, products):\n",
    "    total_products_ordered = len(customer_orders)\n",
    "    unique_products_ordered = len(set(customer_orders))\n",
    "    return total_products_ordered, (unique_products_ordered / len(products)) * 100\n",
    "\n",
    "def print_order_statistics(order_statistics):\n",
    "    total_products_ordered, percentage_unique = order_statistics\n",
    "    print(f\"Total products ordered: {total_products_ordered}\")\n",
    "    print(f\"Percentage of unique products ordered: {percentage_unique}%\")\n",
    "\n",
    "def print_updated_inventory(inventory):\n",
    "    print(\"Updated Inventory:\")\n",
    "    for product, quantity in inventory.items():\n",
    "        print(f\"{product}: {quantity}\")\n",
    "\n",
    "# Example usage:\n",
    "products = [\"apple\", \"banana\", \"orange\"]\n",
    "inventory = initialize_inventory(products)\n",
    "customer_orders = get_customer_orders()\n",
    "update_inventory(customer_orders, inventory)\n",
    "order_statistics = calculate_order_statistics(customer_orders, products)\n",
    "print_order_statistics(order_statistics)\n",
    "print_updated_inventory(inventory)\n"
   ]
  },
  {
   "cell_type": "code",
   "execution_count": null,
   "id": "002f7f75",
   "metadata": {},
   "outputs": [],
   "source": []
  }
 ],
 "metadata": {
  "kernelspec": {
   "display_name": "Python 3 (ipykernel)",
   "language": "python",
   "name": "python3"
  },
  "language_info": {
   "codemirror_mode": {
    "name": "ipython",
    "version": 3
   },
   "file_extension": ".py",
   "mimetype": "text/x-python",
   "name": "python",
   "nbconvert_exporter": "python",
   "pygments_lexer": "ipython3",
   "version": "3.11.5"
  }
 },
 "nbformat": 4,
 "nbformat_minor": 5
}
