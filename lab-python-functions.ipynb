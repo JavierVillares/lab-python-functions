{
 "cells": [
  {
   "cell_type": "markdown",
   "id": "25d7736c-ba17-4aff-b6bb-66eba20fbf4e",
   "metadata": {},
   "source": [
    "# Lab | Functions"
   ]
  },
  {
   "cell_type": "markdown",
   "id": "0c581062-8967-4d93-b06e-62833222f930",
   "metadata": {
    "tags": []
   },
   "source": [
    "## Exercise: Managing Customer Orders with Functions\n",
    "\n",
    "In the previous exercise, you improved the code for managing customer orders by using loops and flow control. Now, let's take it a step further and refactor the code by introducing functions.\n",
    "\n",
    "Follow the steps below to complete the exercise:\n",
    "\n",
    "1. Define a function named `initialize_inventory` that takes `products` as a parameter. Inside the function, implement the code for initializing the inventory dictionary using a loop and user input.\n",
    "\n",
    "2. Define a function named `get_customer_orders` that takes no parameters. Inside the function, implement the code for prompting the user to enter the product names using a loop. The function should return the `customer_orders` set.\n",
    "\n",
    "3. Define a function named `update_inventory` that takes `customer_orders` and `inventory` as parameters. Inside the function, implement the code for updating the inventory dictionary based on the customer orders.\n",
    "\n",
    "4. Define a function named `calculate_order_statistics` that takes `customer_orders` and `products` as parameters. Inside the function, implement the code for calculating the order statistics (total products ordered, and percentage of unique products ordered). The function should return these values.\n",
    "\n",
    "5. Define a function named `print_order_statistics` that takes `order_statistics` as a parameter. Inside the function, implement the code for printing the order statistics.\n",
    "\n",
    "6. Define a function named `print_updated_inventory` that takes `inventory` as a parameter. Inside the function, implement the code for printing the updated inventory.\n",
    "\n",
    "7. Call the functions in the appropriate sequence to execute the program and manage customer orders.\n",
    "\n",
    "Hints for functions:\n",
    "\n",
    "- Consider the input parameters required for each function and their return values.\n",
    "- Utilize function parameters and return values to transfer data between functions.\n",
    "- Test your functions individually to ensure they work correctly.\n",
    "\n",
    "\n"
   ]
  },
  {
   "cell_type": "code",
   "execution_count": 1,
   "id": "5103ecaa",
   "metadata": {},
   "outputs": [],
   "source": [
    "def initialize_inventory(products): #this is to define what happens when we pull up the inventory from python in this case it´s going to be able to add new items to the existing products and the quantity of all products\n",
    "    inventory = {} #we need an empty inventory dictionary \n",
    "    more_products = \"yes\" #conditio of the input \n",
    "    while more_products == \"yes\":\n",
    "        products_orders = input(\"What product do you want to add to the list:\"  )\n",
    "        more_products = input(\"Do you want to add more products to the list? yes/no \")\n",
    "        products.append(products_orders)\n",
    "    else: inventory = {}\n",
    "    \n",
    "    for x in products:\n",
    "        inventory[x] = int(input(\"How many \" + x + \" are there: \" ))\n",
    "    print(products)\n",
    "    return inventory"
   ]
  },
  {
   "cell_type": "code",
   "execution_count": 2,
   "id": "cbf0a9d9",
   "metadata": {},
   "outputs": [],
   "source": [
    "def get_customer_orders():\n",
    "    customer_orders = set()\n",
    "    #here we are creating a loop so the customer can choose several products but we can´t choose multiple products since the customer_orders list is a set so for now we just create a simple loop and we update the list of the set\n",
    "    seguir = \"y\" #start of loop \"condition first\"\n",
    "    while seguir == \"y\": #checking what the condition of the loop is\n",
    "        print(products) #we need the list of the available products from which the customer can choose from\n",
    "        order = input(\"Choose one of these following items: \") #we ask the customer to choose one of the items \n",
    "        print(\"You choose:\", order) #we confirm what he chose\n",
    "        customer_orders.add(order) #we add said order to the customer_orders set\n",
    "        seguir = input(\"Do you want to keep on buying?  y/n \", ) #we ask the customer if he wants to continue choosing y = loop starts again n = we continue with the next line of code\n",
    "    else: \n",
    "        print(\"Thank you for purchasing:\", customer_orders) #we display the customer_orders list with a thank you message\n",
    "    return customer_orders"
   ]
  },
  {
   "cell_type": "code",
   "execution_count": 3,
   "id": "1f65713a",
   "metadata": {},
   "outputs": [],
   "source": [
    "def update_inventory(customer_orders, products):\n",
    "    for x in customer_orders:\n",
    "        inventory[x] -= 1\n",
    "    return inventory"
   ]
  },
  {
   "cell_type": "code",
   "execution_count": 4,
   "id": "955a8416",
   "metadata": {},
   "outputs": [],
   "source": [
    "def calculate_order_statistics(customer_orders, products):\n",
    "    order_statistics = len(customer_orders)/len(products)*100\n",
    "    print(\"Percentage of customer order\", order_statistics,\"%\")\n",
    "    return order_statistics"
   ]
  },
  {
   "cell_type": "code",
   "execution_count": 5,
   "id": "dc103b97",
   "metadata": {},
   "outputs": [],
   "source": [
    "def print_order_statistics(order_statistics):\n",
    "    print(customer_orders)\n",
    "    print(order_statistics)"
   ]
  },
  {
   "cell_type": "code",
   "execution_count": 6,
   "id": "1fd01719",
   "metadata": {},
   "outputs": [],
   "source": [
    "def print_updated_inventory(inventory):\n",
    "    for x,y in inventory.items(): #basic nice display of the total left inventory\n",
    "        print(\"Inventory of\", x , \"is: \", y )\n",
    "    return x and y"
   ]
  },
  {
   "cell_type": "code",
   "execution_count": 7,
   "id": "1b970d2b",
   "metadata": {
    "scrolled": true
   },
   "outputs": [
    {
     "name": "stdout",
     "output_type": "stream",
     "text": [
      "What product do you want to add to the list:tank\n",
      "Do you want to add more products to the list? yes/no yes\n",
      "What product do you want to add to the list:vampire\n",
      "Do you want to add more products to the list? yes/no yes\n",
      "What product do you want to add to the list:totally legit 500€ bill\n",
      "Do you want to add more products to the list? yes/no yes\n",
      "What product do you want to add to the list:Statue of Liberty\n",
      "Do you want to add more products to the list? yes/no no\n",
      "How many t-shirt are there: 12\n",
      "How many mug are there: 12\n",
      "How many hat are there: 12\n",
      "How many book are there: 12\n",
      "How many keychain are there: 12\n",
      "How many tank are there: 12\n",
      "How many vampire are there: 12\n",
      "How many totally legit 500€ bill are there: 12\n",
      "How many Statue of Liberty are there: 12\n",
      "['t-shirt', 'mug', 'hat', 'book', 'keychain', 'tank', 'vampire', 'totally legit 500€ bill', 'Statue of Liberty']\n",
      "['t-shirt', 'mug', 'hat', 'book', 'keychain', 'tank', 'vampire', 'totally legit 500€ bill', 'Statue of Liberty']\n",
      "Choose one of these following items: Statue of Liberty\n",
      "You choose: Statue of Liberty\n",
      "Do you want to keep on buying?  y/n y\n",
      "['t-shirt', 'mug', 'hat', 'book', 'keychain', 'tank', 'vampire', 'totally legit 500€ bill', 'Statue of Liberty']\n",
      "Choose one of these following items: totally legit 500€ bill\n",
      "You choose: totally legit 500€ bill\n",
      "Do you want to keep on buying?  y/n y\n",
      "['t-shirt', 'mug', 'hat', 'book', 'keychain', 'tank', 'vampire', 'totally legit 500€ bill', 'Statue of Liberty']\n",
      "Choose one of these following items: vampire\n",
      "You choose: vampire\n",
      "Do you want to keep on buying?  y/n y\n",
      "['t-shirt', 'mug', 'hat', 'book', 'keychain', 'tank', 'vampire', 'totally legit 500€ bill', 'Statue of Liberty']\n",
      "Choose one of these following items: book\n",
      "You choose: book\n",
      "Do you want to keep on buying?  y/n n\n",
      "Thank you for purchasing: {'Statue of Liberty', 'book', 'vampire', 'totally legit 500€ bill'}\n",
      "Percentage of customer order 44.44444444444444 %\n",
      "{'Statue of Liberty', 'book', 'vampire', 'totally legit 500€ bill'}\n",
      "44.44444444444444\n",
      "Inventory of t-shirt is:  12\n",
      "Inventory of mug is:  12\n",
      "Inventory of hat is:  12\n",
      "Inventory of book is:  11\n",
      "Inventory of keychain is:  12\n",
      "Inventory of tank is:  12\n",
      "Inventory of vampire is:  11\n",
      "Inventory of totally legit 500€ bill is:  11\n",
      "Inventory of Statue of Liberty is:  11\n"
     ]
    },
    {
     "data": {
      "text/plain": [
       "11"
      ]
     },
     "execution_count": 7,
     "metadata": {},
     "output_type": "execute_result"
    }
   ],
   "source": [
    "products = [\"t-shirt\", \"mug\", \"hat\", \"book\", \"keychain\"]\n",
    "inventory = initialize_inventory(products)\n",
    "customer_orders = get_customer_orders()\n",
    "update_inventory(customer_orders, inventory)\n",
    "order_statistics = calculate_order_statistics(customer_orders, products)\n",
    "print_order_statistics(order_statistics)\n",
    "print_updated_inventory(inventory)"
   ]
  },
  {
   "cell_type": "code",
   "execution_count": null,
   "id": "29a8c5da",
   "metadata": {},
   "outputs": [],
   "source": []
  }
 ],
 "metadata": {
  "kernelspec": {
   "display_name": "Python 3 (ipykernel)",
   "language": "python",
   "name": "python3"
  },
  "language_info": {
   "codemirror_mode": {
    "name": "ipython",
    "version": 3
   },
   "file_extension": ".py",
   "mimetype": "text/x-python",
   "name": "python",
   "nbconvert_exporter": "python",
   "pygments_lexer": "ipython3",
   "version": "3.11.5"
  }
 },
 "nbformat": 4,
 "nbformat_minor": 5
}
